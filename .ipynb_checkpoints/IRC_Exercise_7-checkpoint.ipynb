{
 "cells": [
  {
   "cell_type": "code",
   "execution_count": 1,
   "metadata": {
    "collapsed": true
   },
   "outputs": [],
   "source": [
    "import numpy as np\n",
    "import matplotlib.pyplot as plt\n",
    "\n",
    "%matplotlib inline"
   ]
  },
  {
   "cell_type": "code",
   "execution_count": 42,
   "metadata": {
    "collapsed": false
   },
   "outputs": [
    {
     "data": {
      "text/plain": [
       "'\\ndef evolve_matrix(T):\\n    T_new = np.copy(T)\\n    if T[i, j] == 1:\\n        if sum_neighbours(T, i, j) > 3:\\n            T_new[i, j] = 0\\n            return T_new\\n        elif sum_neighbours(T, i, j) < 2:\\n            T_new[i, j] = 0\\n            return T_new\\n    elif T[i, j] == 0 and sum_neighbours(T, i, j) == 3:\\n        T_new[i, j] = 1\\n        return T_new\\n    else:\\n        return T\\n'"
      ]
     },
     "execution_count": 42,
     "metadata": {},
     "output_type": "execute_result"
    }
   ],
   "source": [
    "def table_zeros(N):\n",
    "    table = np.zeros((N, N))\n",
    "    return table\n",
    "\n",
    "def create_table(N, arr):\n",
    "    table = table_zeros(N)\n",
    "    for i in range(len(arr)):\n",
    "        table[arr[i, 0], arr[i, 1]] = 1\n",
    "    return table \n",
    "\n",
    "def pad_with(vector, pad_width, iaxis, kwargs):\n",
    "    pad_value = kwargs.get('padder', 10)\n",
    "    vector[:pad_width[0]] = pad_value\n",
    "    vector[-pad_width[1]:] = pad_value\n",
    "    pass\n",
    "\n",
    "def sorround_zeros(T):\n",
    "    ans = np.pad(T, 1, pad_with, padder = 0)\n",
    "    return ans    \n",
    "\n",
    "def sum_neighbours(T, i, j):\n",
    "    T_pad = sorround_zeros(T)\n",
    "    i += 1\n",
    "    j += 1\n",
    "    above_sum = T_pad[i-1, j-1] + T_pad[i-1, j] + T_pad[i-1, j+1]\n",
    "    middle_sum = T_pad[i, j-1] + T_pad[i, j+1]\n",
    "    below_sum = T_pad[i+1, j-1] + T_pad[i+1, j] + T_pad[i+1, j+1]\n",
    "    return above_sum + middle_sum + below_sum\n",
    "\n",
    "def evolve_cell(T, i, j):\n",
    "    T_new = np.copy(T)\n",
    "    if T[i, j] == 1:\n",
    "        if sum_neighbours(T, i, j) > 3:\n",
    "            T_new[i, j] = 0\n",
    "            return T_new\n",
    "        elif sum_neighbours(T, i, j) < 2:\n",
    "            T_new[i, j] = 0\n",
    "            return T_new\n",
    "    if T[i, j] == 0 and sum_neighbours(T, i, j) == 3:\n",
    "        T_new[i, j] = 1\n",
    "        return T_new\n",
    "    else:\n",
    "        return T\n",
    "    \n",
    "        \n",
    "\"\"\"\n",
    "def evolve_matrix(T):\n",
    "    T_new = np.copy(T)\n",
    "    if T[i, j] == 1:\n",
    "        if sum_neighbours(T, i, j) > 3:\n",
    "            T_new[i, j] = 0\n",
    "            return T_new\n",
    "        elif sum_neighbours(T, i, j) < 2:\n",
    "            T_new[i, j] = 0\n",
    "            return T_new\n",
    "    elif T[i, j] == 0 and sum_neighbours(T, i, j) == 3:\n",
    "        T_new[i, j] = 1\n",
    "        return T_new\n",
    "    else:\n",
    "        return T\n",
    "\"\"\""
   ]
  },
  {
   "cell_type": "code",
   "execution_count": 38,
   "metadata": {
    "collapsed": false
   },
   "outputs": [
    {
     "name": "stdout",
     "output_type": "stream",
     "text": [
      "[[0. 0. 0. 0. 0.]\n",
      " [0. 0. 1. 0. 0.]\n",
      " [0. 0. 1. 0. 0.]\n",
      " [0. 0. 1. 0. 0.]\n",
      " [0. 0. 0. 0. 0.]]\n"
     ]
    },
    {
     "data": {
      "text/plain": [
       "5"
      ]
     },
     "execution_count": 38,
     "metadata": {},
     "output_type": "execute_result"
    }
   ],
   "source": [
    "T = create_table(5, np.array([[1, 2], [2, 2], [3,2]]))\n",
    "print T   "
   ]
  },
  {
   "cell_type": "code",
   "execution_count": 41,
   "metadata": {
    "collapsed": false
   },
   "outputs": [
    {
     "ename": "TypeError",
     "evalue": "'int' object is not iterable",
     "output_type": "error",
     "traceback": [
      "\u001b[0;31m---------------------------------------------------------------------------\u001b[0m",
      "\u001b[0;31mTypeError\u001b[0m                                 Traceback (most recent call last)",
      "\u001b[0;32m<ipython-input-41-fffdfa0f2ca5>\u001b[0m in \u001b[0;36m<module>\u001b[0;34m()\u001b[0m\n\u001b[0;32m----> 1\u001b[0;31m \u001b[0mT_new\u001b[0m \u001b[0;34m=\u001b[0m \u001b[0mevolve_matrix\u001b[0m\u001b[0;34m(\u001b[0m\u001b[0mT\u001b[0m\u001b[0;34m)\u001b[0m\u001b[0;34m\u001b[0m\u001b[0m\n\u001b[0m\u001b[1;32m      2\u001b[0m \u001b[0;32mprint\u001b[0m \u001b[0mT_new\u001b[0m\u001b[0;34m\u001b[0m\u001b[0m\n",
      "\u001b[0;32m<ipython-input-40-f820548c662c>\u001b[0m in \u001b[0;36mevolve_matrix\u001b[0;34m(T)\u001b[0m\n\u001b[1;32m     40\u001b[0m \u001b[0;32mdef\u001b[0m \u001b[0mevolve_matrix\u001b[0m\u001b[0;34m(\u001b[0m\u001b[0mT\u001b[0m\u001b[0;34m)\u001b[0m\u001b[0;34m:\u001b[0m\u001b[0;34m\u001b[0m\u001b[0m\n\u001b[1;32m     41\u001b[0m     \u001b[0mT_new\u001b[0m \u001b[0;34m=\u001b[0m \u001b[0mnp\u001b[0m\u001b[0;34m.\u001b[0m\u001b[0mcopy\u001b[0m\u001b[0;34m(\u001b[0m\u001b[0mT\u001b[0m\u001b[0;34m)\u001b[0m\u001b[0;34m\u001b[0m\u001b[0m\n\u001b[0;32m---> 42\u001b[0;31m     \u001b[0;32mfor\u001b[0m \u001b[0mi\u001b[0m\u001b[0;34m,\u001b[0m \u001b[0mj\u001b[0m \u001b[0;32min\u001b[0m \u001b[0mrange\u001b[0m\u001b[0;34m(\u001b[0m\u001b[0mT\u001b[0m\u001b[0;34m.\u001b[0m\u001b[0mshape\u001b[0m\u001b[0;34m[\u001b[0m\u001b[0;36m0\u001b[0m\u001b[0;34m]\u001b[0m\u001b[0;34m)\u001b[0m\u001b[0;34m:\u001b[0m\u001b[0;34m\u001b[0m\u001b[0m\n\u001b[0m\u001b[1;32m     43\u001b[0m         \u001b[0;32mif\u001b[0m \u001b[0mT\u001b[0m\u001b[0;34m[\u001b[0m\u001b[0mi\u001b[0m\u001b[0;34m,\u001b[0m \u001b[0mj\u001b[0m\u001b[0;34m]\u001b[0m \u001b[0;34m==\u001b[0m \u001b[0;36m1\u001b[0m\u001b[0;34m:\u001b[0m\u001b[0;34m\u001b[0m\u001b[0m\n\u001b[1;32m     44\u001b[0m             \u001b[0;32mif\u001b[0m \u001b[0msum_neighbours\u001b[0m\u001b[0;34m(\u001b[0m\u001b[0mT\u001b[0m\u001b[0;34m,\u001b[0m \u001b[0mi\u001b[0m\u001b[0;34m,\u001b[0m \u001b[0mj\u001b[0m\u001b[0;34m)\u001b[0m \u001b[0;34m>\u001b[0m \u001b[0;36m3\u001b[0m\u001b[0;34m:\u001b[0m\u001b[0;34m\u001b[0m\u001b[0m\n",
      "\u001b[0;31mTypeError\u001b[0m: 'int' object is not iterable"
     ]
    }
   ],
   "source": [
    "T_new = evolve_matrix(T)\n",
    "print T_new"
   ]
  },
  {
   "cell_type": "code",
   "execution_count": 17,
   "metadata": {
    "collapsed": false
   },
   "outputs": [
    {
     "data": {
      "text/plain": [
       "<matplotlib.image.AxesImage at 0x10dab4f50>"
      ]
     },
     "execution_count": 17,
     "metadata": {},
     "output_type": "execute_result"
    },
    {
     "data": {
      "image/png": "[encoded data removed]",
      "text/plain": [
       "<matplotlib.figure.Figure at 0x10ba56590>"
      ]
     },
     "metadata": {},
     "output_type": "display_data"
    }
   ],
   "source": [
    "plt.imshow(T, cmap = 'Greys',  interpolation = 'nearest')"
   ]
  }
 ],
 "metadata": {
  "anaconda-cloud": {},
  "kernelspec": {
   "display_name": "p38workshop",
   "language": "python",
   "name": "p38workshop"
  },
  "language_info": {
   "codemirror_mode": {
    "name": "ipython",
    "version": 2
   },
   "file_extension": ".py",
   "mimetype": "text/x-python",
   "name": "python",
   "nbconvert_exporter": "python",
   "pygments_lexer": "ipython2",
   "version": "2.7.12"
  }
 },
 "nbformat": 4,
 "nbformat_minor": 0
}
