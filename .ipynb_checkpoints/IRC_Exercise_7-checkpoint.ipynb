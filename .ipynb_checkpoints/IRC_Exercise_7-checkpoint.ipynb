{
 "cells": [
  {
   "cell_type": "code",
   "execution_count": 351,
   "metadata": {
    "collapsed": true
   },
   "outputs": [],
   "source": [
    "import numpy as np\n",
    "import matplotlib.pyplot as plt\n",
    "\n",
    "%matplotlib inline"
   ]
  },
  {
   "cell_type": "code",
   "execution_count": 359,
   "metadata": {
    "collapsed": false
   },
   "outputs": [],
   "source": [
    "def table_zeros(N):\n",
    "    table = np.zeros((N, N))\n",
    "    return table\n",
    "\n",
    "def create_table(N, arr):\n",
    "    table = table_zeros(N)\n",
    "    for i in range(len(arr)):\n",
    "        table[arr[i, 0], arr[i, 1]] = 1\n",
    "    return table \n",
    "\n",
    "def pad_with(vector, pad_width, iaxis, kwargs):\n",
    "    pad_value = kwargs.get('padder', 10)\n",
    "    vector[:pad_width[0]] = pad_value\n",
    "    vector[-pad_width[1]:] = pad_value\n",
    "    pass\n",
    "\n",
    "def sorround_zeros(T):\n",
    "    ans = np.pad(T, 1, pad_with, padder = 0)\n",
    "    return ans    \n",
    "\n",
    "def sum_neighbours(T, i, j):\n",
    "    T_pad = sorround_zeros(T)\n",
    "    i += 1\n",
    "    j += 1\n",
    "    above_sum = T_pad[i-1, j-1] + T_pad[i-1, j] + T_pad[i-1, j+1]\n",
    "    middle_sum = T_pad[i, j-1] + T_pad[i, j+1]\n",
    "    below_sum = T_pad[i+1, j-1] + T_pad[i+1, j] + T_pad[i+1, j+1]\n",
    "    return above_sum + middle_sum + below_sum\n",
    "\n",
    "def evolve_matrix(T):\n",
    "    T_new = np.copy(T)\n",
    "    for i in range(T.shape[0]):\n",
    "        for j in range(T.shape[1]):\n",
    "            if T[i, j] == 1:\n",
    "                if sum_neighbours(T, i, j) > 3:\n",
    "                    T_new[i, j] = 0\n",
    "                elif sum_neighbours(T, i, j) < 2:\n",
    "                    T_new[i, j] = 0\n",
    "            elif T[i, j] == 0 and sum_neighbours(T, i, j) == 3:\n",
    "                T_new[i, j] = 1\n",
    "    return T_new\n",
    "\n",
    "def evolve_n_steps(T, steps):\n",
    "    if steps == 0:\n",
    "        return T\n",
    "    if steps > 0:\n",
    "        T_new = evolve_matrix(T)\n",
    "        return evolve_n_steps(T_new, steps - 1)\n",
    "    \n",
    "def list_of_frames(T, steps):\n",
    "    if steps == 0:\n",
    "        return np.array([T])\n",
    "    if steps > 0:\n",
    "        T_new = evolve_matrix(T)\n",
    "        ans = np.concatenate(( np.array([T]), list_of_frames(T_new, steps - 1) ))\n",
    "    return ans\n"
   ]
  },
  {
   "cell_type": "code",
   "execution_count": 358,
   "metadata": {
    "collapsed": false
   },
   "outputs": [],
   "source": [
    "T = create_table(5, np.array([[1, 2], [2, 2], [3,2]]))\n",
    "T_new = evolve_matrix(T)"
   ]
  },
  {
   "cell_type": "code",
   "execution_count": 360,
   "metadata": {
    "collapsed": false
   },
   "outputs": [],
   "source": [
    "frames = list_of_frames(T, 20)"
   ]
  },
  {
   "cell_type": "code",
   "execution_count": 363,
   "metadata": {
    "collapsed": true
   },
   "outputs": [],
   "source": [
    "def print_matrix(T):\n",
    "    print plt.imshow(T, cmap = 'Greys',  interpolation = 'nearest')"
   ]
  },
  {
   "cell_type": "code",
   "execution_count": 366,
   "metadata": {
    "collapsed": true
   },
   "outputs": [],
   "source": []
  },
  {
   "cell_type": "code",
   "execution_count": null,
   "metadata": {
    "collapsed": true
   },
   "outputs": [],
   "source": []
  }
 ],
 "metadata": {
  "anaconda-cloud": {},
  "kernelspec": {
   "display_name": "p38workshop",
   "language": "python",
   "name": "p38workshop"
  },
  "language_info": {
   "codemirror_mode": {
    "name": "ipython",
    "version": 2
   },
   "file_extension": ".py",
   "mimetype": "text/x-python",
   "name": "python",
   "nbconvert_exporter": "python",
   "pygments_lexer": "ipython2",
   "version": "2.7.12"
  }
 },
 "nbformat": 4,
 "nbformat_minor": 0
}
