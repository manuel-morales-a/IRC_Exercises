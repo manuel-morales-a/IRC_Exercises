{
 "cells": [
  {
   "cell_type": "code",
   "execution_count": 1,
   "metadata": {
    "collapsed": true
   },
   "outputs": [],
   "source": [
    "import numpy as np\n",
    "import matplotlib.pyplot as plt\n",
    "import matplotlib.animation as animation\n",
    "\n",
    "%matplotlib inline"
   ]
  },
  {
   "cell_type": "code",
   "execution_count": 2,
   "metadata": {
    "collapsed": false
   },
   "outputs": [],
   "source": [
    "def table_zeros(N):\n",
    "    \"\"\"\n",
    "    Table of zeros\n",
    "    Gives a np.array of zeros of\n",
    "    N x N dimensions \n",
    "    \"\"\"\n",
    "    table = np.zeros((N, N))\n",
    "    return table\n",
    "\n",
    "def create_table(N, arr):\n",
    "    \"\"\"\n",
    "    Creates a table with not-null entries\n",
    "    in the positions of arr\n",
    "    \"\"\"\n",
    "    table = table_zeros(N)\n",
    "    for i in range(len(arr)):\n",
    "        table[arr[i, 0], arr[i, 1]] = 1\n",
    "    return table \n",
    "\n",
    "def pad_with(vector, pad_width, iaxis, kwargs):\n",
    "    \"\"\"\n",
    "    Sorrounds a square matrix with null rows\n",
    "    and coloumns\n",
    "    \"\"\"\n",
    "    pad_value = kwargs.get('padder', 10)\n",
    "    vector[:pad_width[0]] = pad_value\n",
    "    vector[-pad_width[1]:] = pad_value\n",
    "    pass\n",
    "\n",
    "def sorround_zeros(T):\n",
    "    \"\"\"\n",
    "    Sorround the square table matrix with a \n",
    "    row and a column of zeros to calculate the sum \n",
    "    of neighbours. \n",
    "    \"\"\"\n",
    "    ans = np.pad(T, 1, pad_with, padder = 0)\n",
    "    return ans    \n",
    "\n",
    "def sum_neighbours(T, i, j):\n",
    "    \"\"\"\n",
    "    Calculate the sum of the neighbours of the \n",
    "    (i,j) element of the table T matrix. \n",
    "    \"\"\"\n",
    "    T_pad = sorround_zeros(T)\n",
    "    i += 1\n",
    "    j += 1\n",
    "    above_sum = T_pad[i-1, j-1] + T_pad[i-1, j] + T_pad[i-1, j+1]\n",
    "    middle_sum = T_pad[i, j-1] + T_pad[i, j+1]\n",
    "    below_sum = T_pad[i+1, j-1] + T_pad[i+1, j] + T_pad[i+1, j+1]\n",
    "    return above_sum + middle_sum + below_sum\n",
    "\n",
    "def evolve_matrix(T):\n",
    "    \"\"\"\n",
    "    Evolves the table T matrix\n",
    "    one step in time. \n",
    "    \"\"\"\n",
    "    T_new = np.copy(T)\n",
    "    for i in range(T.shape[0]):\n",
    "        for j in range(T.shape[1]):\n",
    "            if T[i, j] == 1:\n",
    "                if sum_neighbours(T, i, j) > 3:\n",
    "                    T_new[i, j] = 0\n",
    "                elif sum_neighbours(T, i, j) < 2:\n",
    "                    T_new[i, j] = 0\n",
    "            elif T[i, j] == 0 and sum_neighbours(T, i, j) == 3:\n",
    "                T_new[i, j] = 1\n",
    "    return T_new\n",
    "\n",
    "def evolve_n_steps(T, steps):\n",
    "    \"\"\"\n",
    "    Evolves the table T matrix\n",
    "    n steps in time. \n",
    "    \"\"\"\n",
    "    if steps == 0:\n",
    "        return T\n",
    "    if steps > 0:\n",
    "        T_new = evolve_matrix(T)\n",
    "        return evolve_n_steps(T_new, steps - 1)\n",
    "    \n",
    "def list_of_frames(T, steps):\n",
    "    \"\"\"\n",
    "    Creates a list of tables starting\n",
    "    from the initial one T and making it \n",
    "    evolve a given number of steps.\n",
    "    \"\"\"\n",
    "    if steps == 0:\n",
    "        return np.array([T])\n",
    "    if steps > 0:\n",
    "        T_new = evolve_matrix(T)\n",
    "        ans = np.concatenate(( np.array([T]), list_of_frames(T_new, steps - 1) ))\n",
    "    return ans\n"
   ]
  },
  {
   "cell_type": "code",
   "execution_count": 20,
   "metadata": {
    "collapsed": false
   },
   "outputs": [
    {
     "data": {
      "image/png": "[encoded data removed]",
      "text/plain": [
       "<matplotlib.figure.Figure at 0x10e129c50>"
      ]
     },
     "metadata": {},
     "output_type": "display_data"
    }
   ],
   "source": [
    "# Creates the \"blinker\" oscillator\n",
    "T = create_table(5, np.array([[1, 2], [2, 2], [3,2]]))\n",
    "T_new = evolve_matrix(T)\n",
    "frames = list_of_frames(T, 50)\n",
    "\n",
    "fig = plt.figure()\n",
    "i = 0\n",
    "im = plt.imshow(frames[0], cmap = 'Greys', interpolation='nearest', animated=True)\n",
    "\n",
    "def updatefig(*args):\n",
    "    global i\n",
    "    if (i < len(frames) - 1):\n",
    "        i += 1\n",
    "    else:\n",
    "        i=0\n",
    "    im.set_array(frames[i])\n",
    "    return im,\n",
    "\n",
    "ani = animation.FuncAnimation(fig, updatefig,  blit=True, interval = 100)\n",
    "plt.show()\n",
    "\n",
    "ani.save(\"movie_blinker.mp4\")\n",
    "\n",
    "\n",
    "# In case you want to use Google's Colab \n",
    "# use the next two lines. \n",
    "\n",
    "# from google.colab import files\n",
    "# files.download(\"movie_test.mp4\")"
   ]
  },
  {
   "cell_type": "code",
   "execution_count": 27,
   "metadata": {
    "collapsed": false
   },
   "outputs": [],
   "source": [
    "# Creates the \"pulsar\" oscillator\n",
    "pulsar_indices = np.array([ \n",
    "                        [2, 4], [2, 5], [2, 6], [2, 10], [2, 11], [2, 12],\n",
    "                        [4, 2], [4, 7], [4, 9], [4, 14],\n",
    "                        [5, 2], [5, 7], [5, 9], [5, 14],\n",
    "                        [6, 2], [6, 7], [6, 9], [6, 14],\n",
    "                        [7, 4], [7, 5], [7, 6], [7, 10], [7, 11], [7, 12],\n",
    "                        [9, 4], [9, 5], [9, 6], [9, 10], [9, 11], [9, 12],\n",
    "                        [10, 2], [10, 7], [10, 9], [10, 14],\n",
    "                        [11, 2], [11, 7], [11, 9], [11, 14],\n",
    "                        [12, 2], [12, 7], [12, 9], [12, 14],\n",
    "                        [14, 4], [14, 5], [14, 6], [14, 10], [14, 11], [14, 12],\n",
    "                          ])\n",
    "\n",
    "T_pulsar = create_table(17, pulsar_indices)\n",
    "T_pulsar_new = evolve_matrix(T_pulsar)\n"
   ]
  },
  {
   "cell_type": "code",
   "execution_count": 30,
   "metadata": {
    "collapsed": false
   },
   "outputs": [
    {
     "data": {
      "image/png": "[encoded data removed]",
      "text/plain": [
       "<matplotlib.figure.Figure at 0x1162a9450>"
      ]
     },
     "metadata": {},
     "output_type": "display_data"
    }
   ],
   "source": [
    "frames_pulsar = list_of_frames(T_pulsar, 50)\n",
    "\n",
    "fig = plt.figure()\n",
    "i = 0\n",
    "im = plt.imshow(frames_pulsar[0], cmap = 'Greys', interpolation='nearest', animated=True)\n",
    "\n",
    "def updatefig(*args):\n",
    "    global i\n",
    "    if (i < len(frames_pulsar) - 1):\n",
    "        i += 1\n",
    "    else:\n",
    "        i=0\n",
    "    im.set_array(frames_pulsar[i])\n",
    "    return im,\n",
    "\n",
    "ani = animation.FuncAnimation(fig, updatefig,  blit=True, interval = 200)\n",
    "plt.show()\n",
    "\n",
    "ani.save(\"movie_pulsar.mp4\")"
   ]
  },
  {
   "cell_type": "code",
   "execution_count": 39,
   "metadata": {
    "collapsed": true
   },
   "outputs": [],
   "source": [
    "# Creates the \"penta-decathlon\" oscillator\n",
    "d = 3\n",
    "pentad_indices = np.array([ [5, 4+d], [5, 5+d], [5, 6+d],\n",
    "                           [6, 4+d], [6, 6+d],\n",
    "                           [7, 4+d], [7, 5+d], [7, 6+d],\n",
    "                           [8, 4+d], [8, 5+d], [8, 6+d],\n",
    "                           [9, 4+d], [9, 5+d], [9, 6+d],\n",
    "                           [10, 4+d], [10, 5+d], [10, 6+d],\n",
    "                           [11, 4+d], [11, 6+d],\n",
    "                           [12, 4+d], [12, 5+d], [12, 6+d],\n",
    "                          ])\n",
    "\n",
    "T_pentad = create_table(18, pentad_indices)\n",
    "T_pentad_new = evolve_matrix(T_pentad)\n"
   ]
  },
  {
   "cell_type": "code",
   "execution_count": 40,
   "metadata": {
    "collapsed": false
   },
   "outputs": [
    {
     "data": {
      "image/png": "[encoded data removed]",
      "text/plain": [
       "<matplotlib.figure.Figure at 0x1187eb190>"
      ]
     },
     "metadata": {},
     "output_type": "display_data"
    }
   ],
   "source": [
    "frames_pentad = list_of_frames(T_pentad, 50)\n",
    "\n",
    "fig = plt.figure()\n",
    "i = 0\n",
    "im = plt.imshow(frames_pentad[0], cmap = 'Greys', interpolation='nearest', animated=True)\n",
    "\n",
    "def updatefig(*args):\n",
    "    global i\n",
    "    if (i < len(frames_pentad) - 1):\n",
    "        i += 1\n",
    "    else:\n",
    "        i=0\n",
    "    im.set_array(frames_pentad[i])\n",
    "    return im,\n",
    "\n",
    "ani = animation.FuncAnimation(fig, updatefig,  blit=True, interval = 200)\n",
    "plt.show()\n",
    "\n",
    "ani.save(\"movie_pentadecathlon.mp4\")"
   ]
  },
  {
   "cell_type": "code",
   "execution_count": null,
   "metadata": {
    "collapsed": true
   },
   "outputs": [],
   "source": []
  }
 ],
 "metadata": {
  "anaconda-cloud": {},
  "kernelspec": {
   "display_name": "p38workshop",
   "language": "python",
   "name": "p38workshop"
  },
  "language_info": {
   "codemirror_mode": {
    "name": "ipython",
    "version": 2
   },
   "file_extension": ".py",
   "mimetype": "text/x-python",
   "name": "python",
   "nbconvert_exporter": "python",
   "pygments_lexer": "ipython2",
   "version": "2.7.12"
  }
 },
 "nbformat": 4,
 "nbformat_minor": 0
}
