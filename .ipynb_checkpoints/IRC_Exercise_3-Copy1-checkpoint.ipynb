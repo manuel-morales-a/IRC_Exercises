{
 "cells": [
  {
   "cell_type": "code",
   "execution_count": 11,
   "metadata": {
    "collapsed": false
   },
   "outputs": [],
   "source": [
    "import numpy as np\n",
    "import scipy.integrate as integrate\n",
    "from scipy import linalg\n"
   ]
  },
  {
   "cell_type": "code",
   "execution_count": 12,
   "metadata": {
    "collapsed": false
   },
   "outputs": [],
   "source": [
    "def weight(x):\n",
    "    '''\n",
    "    Define weight function\n",
    "    '''\n",
    "    ans = np.sin(np.log(x + 1))\n",
    "    return ans\n",
    "\n",
    "def integrand(x, i, j):\n",
    "    '''\n",
    "    Define integrand for the entries\n",
    "    of the correlation matrix\n",
    "    '''\n",
    "    p = i + j\n",
    "    ans = x**p*weight(x)\n",
    "    return ans\n",
    "\n",
    "def M_elem(i, j):\n",
    "    '''\n",
    "    Define the (i,j) element of the \n",
    "    correlation matrix M\n",
    "    '''\n",
    "    ans = integrate.quad(integrand, 0, 1, args = (i, j))[0]\n",
    "    return ans"
   ]
  },
  {
   "cell_type": "code",
   "execution_count": 13,
   "metadata": {
    "collapsed": false
   },
   "outputs": [],
   "source": [
    "def create_M(ord):\n",
    "    '''\n",
    "    Create correlation matrix M \n",
    "    '''\n",
    "    ans = np.array([M_elem(i, j) for i in range(ord + 1) for j in range(ord + 1)]).reshape(ord + 1, ord + 1)\n",
    "    return ans"
   ]
  },
  {
   "cell_type": "code",
   "execution_count": 14,
   "metadata": {
    "collapsed": false
   },
   "outputs": [],
   "source": [
    "ord_pol = 5\n",
    "M = create_M(ord_pol)"
   ]
  },
  {
   "cell_type": "code",
   "execution_count": 15,
   "metadata": {
    "collapsed": true
   },
   "outputs": [],
   "source": [
    "# Until this point all seems fine"
   ]
  },
  {
   "cell_type": "code",
   "execution_count": 16,
   "metadata": {
    "collapsed": false
   },
   "outputs": [],
   "source": [
    "# Now we use Cholesky decomp. \n",
    "L = linalg.cholesky(M)\n",
    "L_inv = linalg.inv(L)"
   ]
  },
  {
   "cell_type": "code",
   "execution_count": 17,
   "metadata": {
    "collapsed": false
   },
   "outputs": [
    {
     "data": {
      "text/plain": [
       "array([ 1.64460699, -3.67390879,  4.82428712, -4.40814335,  2.42069509,\n",
       "        0.46460559])"
      ]
     },
     "execution_count": 17,
     "metadata": {},
     "output_type": "execute_result"
    }
   ],
   "source": [
    "def pols(x):\n",
    "    '''\n",
    "    Create array of polynomials whose \n",
    "    coefficients are given by the elements of\n",
    "    L_inv\n",
    "    '''\n",
    "    x_vec = np.array([x**i for i in range(6)])\n",
    "    ans = L_inv.T.dot(x_vec)\n",
    "    return ans\n",
    "\n",
    "pols(.1)"
   ]
  },
  {
   "cell_type": "code",
   "execution_count": 19,
   "metadata": {
    "collapsed": false
   },
   "outputs": [
    {
     "data": {
      "text/plain": [
       "1.0000000000000018"
      ]
     },
     "execution_count": 19,
     "metadata": {},
     "output_type": "execute_result"
    }
   ],
   "source": [
    "# Here I choose any two polynomials of the array (0 and 1, in this case) and \n",
    "# check orthogonality with the weight. It is not working. \n",
    "def check_pol_ort(x):\n",
    "    ans = pols(x)[1]*pols(x)[1]*weight(x)\n",
    "    return ans\n",
    "\n",
    "integrate.quad(check_pol_ort, 0, 1)[0]"
   ]
  },
  {
   "cell_type": "code",
   "execution_count": null,
   "metadata": {
    "collapsed": true
   },
   "outputs": [],
   "source": []
  }
 ],
 "metadata": {
  "anaconda-cloud": {},
  "kernelspec": {
   "display_name": "p38workshop",
   "language": "python",
   "name": "p38workshop"
  },
  "language_info": {
   "codemirror_mode": {
    "name": "ipython",
    "version": 2
   },
   "file_extension": ".py",
   "mimetype": "text/x-python",
   "name": "python",
   "nbconvert_exporter": "python",
   "pygments_lexer": "ipython2",
   "version": "2.7.12"
  }
 },
 "nbformat": 4,
 "nbformat_minor": 0
}
