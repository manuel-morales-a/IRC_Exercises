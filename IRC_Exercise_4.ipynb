{
 "cells": [
  {
   "cell_type": "code",
   "execution_count": 62,
   "metadata": {
    "collapsed": false
   },
   "outputs": [],
   "source": [
    "from fractions import gcd\n",
    "\n",
    "class c_frac:\n",
    "    ''' Class for fractions '''\n",
    "    def __init__(self, num, den):\n",
    "        self.num = num\n",
    "        self.den = den    \n",
    "        \n",
    "    def simplify(self):\n",
    "        divisor = gcd(self.num, self.den)\n",
    "        return c_frac(self.num/divisor, self.den/divisor)\n",
    "        \n",
    "    def prod(self, frac):\n",
    "        num = self.num * frac.num\n",
    "        den = self.den * frac.den\n",
    "        return c_frac(num, den)\n",
    "    \n",
    "    def div(self, frac):\n",
    "        num = self.num * frac.den\n",
    "        den = self.den * frac.num\n",
    "        return c_frac(num, den)\n",
    "    \n",
    "    def plus(self, frac):\n",
    "        final_den = self.den * frac.den\n",
    "        num_1 = final_den/self.den*self.num\n",
    "        num_2 = final_den/frac.den*frac.num\n",
    "        final_num = num_1 + num_2\n",
    "        return c_frac(final_num, final_den)\n",
    "    \n",
    "    def minus(self, frac):\n",
    "        final_den = self.den * frac.den\n",
    "        num_1 = final_den/self.den*self.num\n",
    "        num_2 = final_den/frac.den*frac.num\n",
    "        final_num = num_1 - num_2\n",
    "        return c_frac(final_num, final_den)\n",
    "    \n",
    "    def gt(self, frac):\n",
    "        q_self = self.num * frac.den\n",
    "        q_frac = frac.num * self.den\n",
    "        return q_self > q_frac\n",
    "    \n",
    "    def lt(self, frac):\n",
    "        q_self = self.num * frac.den\n",
    "        q_frac = frac.num * self.den\n",
    "        return q_self < q_frac\n",
    "    \n",
    "    def isEq(self, frac):\n",
    "        c1 = self.num * frac.den\n",
    "        c2 = frac.num * self.den\n",
    "        return c1 == c2\n",
    "    \n",
    "    def __str__(self):\n",
    "        num = '{:}'.format(self.num)\n",
    "        den = '{:}'.format(self.den)\n",
    "        return 'Numerator: ' + num + ', ' + 'Denominator: ' + den\n",
    "        "
   ]
  },
  {
   "cell_type": "code",
   "execution_count": 63,
   "metadata": {
    "collapsed": false
   },
   "outputs": [
    {
     "name": "stdout",
     "output_type": "stream",
     "text": [
      "Numerator: 1, Denominator: 2\n"
     ]
    }
   ],
   "source": [
    "f1 = c_frac(1, 2)\n",
    "f2 = c_frac(1, 2)\n",
    "f3 = f1.prod(f2)\n",
    "f4 = f1.div(f2)\n",
    "f5 = f1.plus(f2)\n",
    "f6 = f1.minus(f2)\n",
    "f7 = c_frac(2, 4)\n",
    "f8 = f7.simplify()\n",
    "f2.lt(f1)\n",
    "\n",
    "print(f1)"
   ]
  },
  {
   "cell_type": "code",
   "execution_count": 64,
   "metadata": {
    "collapsed": false
   },
   "outputs": [
    {
     "name": "stdout",
     "output_type": "stream",
     "text": [
      "-6.0\n",
      "-12.0\n",
      "Help on function product in module __main__:\n",
      "\n",
      "product(*args, **kwargs)\n",
      "\n"
     ]
    }
   ],
   "source": [
    "import functools\n",
    "\n",
    "# Decorators allow us to define functionals easily. \n",
    "# and manage access control to functions\n",
    "# Functools allows functions to retain name after wrapping\n",
    "\n",
    "def change_sign(func):\n",
    "    @functools.wraps(func)\n",
    "    def wrapper(*args, **kwargs):\n",
    "        return -func(*args, **kwargs)\n",
    "    return wrapper\n",
    "\n",
    "@change_sign\n",
    "def times_two(x):\n",
    "    return 2e0*x\n",
    "\n",
    "@change_sign\n",
    "def product(x,y):\n",
    "    return x*y\n",
    "\n",
    "x=3e0\n",
    "y=4e0\n",
    "\n",
    "print(times_two(x))\n",
    "print(product(x,y))\n",
    "\n",
    "help(product)"
   ]
  },
  {
   "cell_type": "code",
   "execution_count": 65,
   "metadata": {
    "collapsed": false
   },
   "outputs": [
    {
     "name": "stdout",
     "output_type": "stream",
     "text": [
      "4.0\n"
     ]
    }
   ],
   "source": [
    "import functools\n",
    "\n",
    "debug_flag = False\n",
    "\n",
    "def debug(func):\n",
    "    @functools.wraps(func)\n",
    "    def wrapper(*args, **kwargs):\n",
    "        if debug_flag:\n",
    "            #arguments = [f\"{a}\" for a in args]\n",
    "            #karguments = [f\"{k}={v}\" for k,v in kwargs.items()]\n",
    "            arguments = str(args)\n",
    "            karguments = str(kwargs.items())\n",
    "            name = func.__name__\n",
    "            print(\"Calling \"+name+\" with args: \"+ str(arguments[1]) +\" and kwargs: \"+\", \".join(karguments))\n",
    "            value = func(*args, **kwargs)\n",
    "            print(\"Run function: \"+name+\", which output: \"+repr(value))\n",
    "            return value\n",
    "        else:\n",
    "            return func(*args, **kwargs)\n",
    "    return wrapper\n",
    "\n",
    "@debug\n",
    "def times_two(x):\n",
    "    return 2e0*x\n",
    "\n",
    "print(times_two(2))"
   ]
  },
  {
   "cell_type": "code",
   "execution_count": 70,
   "metadata": {
    "collapsed": false
   },
   "outputs": [
    {
     "name": "stdout",
     "output_type": "stream",
     "text": [
      "Time: 2.8133392334e-05 seconds\n",
      "1.3498588075760032\n"
     ]
    }
   ],
   "source": [
    "import numpy as np\n",
    "import time\n",
    "\n",
    "time_flag = True\n",
    "\n",
    "def timefunc(func):\n",
    "    @functools.wraps(func)\n",
    "    def wrapper(*args, **kwargs):\n",
    "        if time_flag:\n",
    "            start_time = time.time()\n",
    "            value = func(*args, **kwargs)\n",
    "            print('Time: ' + str(time.time() - start_time) + ' seconds')\n",
    "            return func(*args, **kwargs)\n",
    "        else:\n",
    "            return func(*args, **kwargs)\n",
    "    return wrapper\n",
    "\n",
    "@timefunc\n",
    "def my_exp(x):\n",
    "    return np.exp(x)\n",
    "\n",
    "print(my_exp(.3))"
   ]
  },
  {
   "cell_type": "code",
   "execution_count": null,
   "metadata": {
    "collapsed": true
   },
   "outputs": [],
   "source": []
  }
 ],
 "metadata": {
  "anaconda-cloud": {},
  "kernelspec": {
   "display_name": "p38workshop",
   "language": "python",
   "name": "p38workshop"
  },
  "language_info": {
   "codemirror_mode": {
    "name": "ipython",
    "version": 2
   },
   "file_extension": ".py",
   "mimetype": "text/x-python",
   "name": "python",
   "nbconvert_exporter": "python",
   "pygments_lexer": "ipython2",
   "version": "2.7.12"
  }
 },
 "nbformat": 4,
 "nbformat_minor": 0
}
